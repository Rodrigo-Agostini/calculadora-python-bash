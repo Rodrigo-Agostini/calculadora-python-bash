{
  "nbformat": 4,
  "nbformat_minor": 0,
  "metadata": {
    "colab": {
      "provenance": []
    },
    "kernelspec": {
      "name": "python3",
      "display_name": "Python 3"
    },
    "language_info": {
      "name": "python"
    }
  },
  "cells": [
    {
      "cell_type": "markdown",
      "source": [
        "#Calculadora em Python, com loop de repetição:"
      ],
      "metadata": {
        "id": "VJ7KmPEcWzvd"
      }
    },
    {
      "cell_type": "code",
      "source": [
        "  #Calculadora em Python\n",
        "\n",
        "    #Definir a saída ao usuário em um loop de repetição:\n",
        "\n",
        "  while True:\n",
        "    print(\"\\nOperações:\")\n",
        "    print(\"1. Adição\")\n",
        "    print(\"2. Subtração\")\n",
        "    print(\"3. Multiplicação\")\n",
        "    print(\"4. Divisão\")\n",
        "    print(\"5. Sair\")\n",
        "\n",
        "    #Definir a entrada de acordo com a escolha do usuário:\n",
        "\n",
        "    escolha = input(\"Escolha uma operação (1-5): \")\n",
        "\n",
        "    #Definir a opção de entrada em uma estrutura condicional:\n",
        "\n",
        "    if escolha == '5':\n",
        "      print(\"Calculadora encerrada.\")\n",
        "      break\n",
        "\n",
        "    try:\n",
        "      num1 = float(input(\"Digite o primeiro número: \"))\n",
        "      num2 = float(input(\"Digite o segundo número: \"))\n",
        "\n",
        "      if escolha == '1':\n",
        "        resultado = num1 + num2\n",
        "        print(\"Resultado:\", resultado)\n",
        "      elif escolha == '2':\n",
        "        resultado = num1 - num2\n",
        "        print(\"Resultado:\", resultado)\n",
        "      elif escolha == '3':\n",
        "        resultado = num1 * num2\n",
        "        print(\"Resultado:\", resultado)\n",
        "      elif escolha == '4':\n",
        "        if num2 == 0:\n",
        "          print(\"Erro: Divisão por zero não permitida.\")\n",
        "        else:\n",
        "          resultado = num1 / num2\n",
        "          print(\"Resultado:\", resultado)\n",
        "      else:\n",
        "        print(\"Opção inválida.\")\n",
        "\n",
        "    #Definir um tratamento de erros em caso de dados inválidos:\n",
        "\n",
        "    except ValueError:\n",
        "      print(\"Erro: Entrada inválida. Certifique-se de digitar números.\")\n",
        "\n",
        "    #Inicia a calculadora:\n",
        "\n",
        "calculadora()"
      ],
      "metadata": {
        "colab": {
          "base_uri": "https://localhost:8080/",
          "height": 523
        },
        "id": "LW7MNzEFW_vM",
        "outputId": "4834191d-958c-4914-cd8a-70c1e74d9a84"
      },
      "execution_count": 12,
      "outputs": [
        {
          "output_type": "stream",
          "name": "stdout",
          "text": [
            "\n",
            "Operações:\n",
            "1. Adição\n",
            "2. Subtração\n",
            "3. Multiplicação\n",
            "4. Divisão\n",
            "5. Sair\n",
            "Escolha uma operação (1-5): 2\n",
            "Digite o primeiro número: 71\n",
            "Digite o segundo número: 6\n",
            "Resultado: 65.0\n",
            "\n",
            "Operações:\n",
            "1. Adição\n",
            "2. Subtração\n",
            "3. Multiplicação\n",
            "4. Divisão\n",
            "5. Sair\n",
            "Escolha uma operação (1-5): 5\n",
            "Calculadora encerrada.\n"
          ]
        },
        {
          "output_type": "error",
          "ename": "NameError",
          "evalue": "name 'calculadora' is not defined",
          "traceback": [
            "\u001b[0;31m---------------------------------------------------------------------------\u001b[0m",
            "\u001b[0;31mNameError\u001b[0m                                 Traceback (most recent call last)",
            "\u001b[0;32m<ipython-input-12-92db7cf1fa3e>\u001b[0m in \u001b[0;36m<cell line: 0>\u001b[0;34m()\u001b[0m\n\u001b[1;32m     50\u001b[0m   \u001b[0;31m#Inicia a calculadora:\u001b[0m\u001b[0;34m\u001b[0m\u001b[0;34m\u001b[0m\u001b[0m\n\u001b[1;32m     51\u001b[0m \u001b[0;34m\u001b[0m\u001b[0m\n\u001b[0;32m---> 52\u001b[0;31m \u001b[0mcalculadora\u001b[0m\u001b[0;34m(\u001b[0m\u001b[0;34m)\u001b[0m\u001b[0;34m\u001b[0m\u001b[0;34m\u001b[0m\u001b[0m\n\u001b[0m",
            "\u001b[0;31mNameError\u001b[0m: name 'calculadora' is not defined"
          ]
        }
      ]
    }
  ]
}